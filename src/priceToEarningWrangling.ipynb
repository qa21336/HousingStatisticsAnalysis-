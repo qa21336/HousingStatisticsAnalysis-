{
 "cells": [
  {
   "cell_type": "code",
   "execution_count": null,
   "id": "3ed6d770-345e-459b-8e84-01166d3e615d",
   "metadata": {
    "scrolled": true
   },
   "outputs": [],
   "source": [
    "# !pip install --upgrade pip\n",
    "\n",
    "# Library supporting .xlsx file\n",
    "# !pip install openpyxl\n",
    "\n",
    "# Library supporting .ods file\n",
    "# !pip install odfpy\n",
    "\n",
    "# Library for google colab (Reading Datasets from google cloud)\n",
    "# !pip install google-cloud\n",
    "# !pip install google-cloud-vision\n"
   ]
  },
  {
   "cell_type": "code",
   "execution_count": null,
   "id": "7cd09096-55eb-4219-b45f-7f7ce9bc588f",
   "metadata": {
    "scrolled": true
   },
   "outputs": [],
   "source": [
    "import pandas as pd\n",
    "\n",
    "\n",
    "# income_and_tax = pd.read_excel('7.Income_and_tax_by_county_and_region_21_22.ods')\n",
    "def merge_three_datasets(sheet_start, title_1, title_2, title_3):\n",
    "    raw_1 = pd.read_excel('../datasets/House_price_to_workplace-based_earnings_ratio.xlsx', header=1, sheet_name=sheet_start)\n",
    "    raw_2 = pd.read_excel('../datasets/House_price_to_workplace-based_earnings_ratio.xlsx', header=1, sheet_name=sheet_start+1)\n",
    "    raw_3 = pd.read_excel('../datasets/House_price_to_workplace-based_earnings_ratio.xlsx', header=1, sheet_name=sheet_start+2)\n",
    "        \n",
    "\n",
    "    df_1a = pd.DataFrame(raw_1)\n",
    "    df_1b = pd.DataFrame(raw_2)\n",
    "    df_1c = pd.DataFrame(raw_3)\n",
    "\n",
    "    flat_1a = pd.melt(df_1a, id_vars=['Code', 'Name'], var_name='Year',\n",
    "                                value_name=title_1)\n",
    "    flat_1b = pd.melt(df_1b, id_vars=['Code', 'Name'], var_name='Year',\n",
    "                                value_name=title_2)\n",
    "    flat_1c = pd.melt(df_1c, id_vars=['Code', 'Name'], var_name='Year',\n",
    "                                value_name=title_3)\n",
    "    \n",
    "    flat_1a['Year'] = pd.to_datetime(flat_1a['Year'].str[-4:])\n",
    "    flat_1b['Year'] = pd.to_datetime(flat_1b['Year'], format='%Y')\n",
    "    flat_1c['Year'] = pd.to_datetime(flat_1c['Year'], format='%Y')\n",
    "    \n",
    "    return flat_1a.merge(flat_1b, on=['Code', 'Name', 'Year'], how='outer')\\\n",
    "                  .merge(flat_1c, on=['Code', 'Name', 'Year'], how='outer')\n",
    "    \n",
    "\n",
    "\n"
   ]
  },
  {
   "cell_type": "markdown",
   "id": "d9bdd47b-06c3-4fc1-a2b6-340992346627",
   "metadata": {},
   "source": [
    "## Median house price, Gross annual, and its ratio from England and Wales, 1997-2022\n",
    "### Country and Region"
   ]
  },
  {
   "cell_type": "code",
   "execution_count": null,
   "id": "703f0b54-2c9a-4b3a-895f-51872ef29cbb",
   "metadata": {
    "scrolled": true
   },
   "outputs": [],
   "source": [
    "eng_cym_region = merge_three_datasets(3, title_1=\"Median_price\", title_2=\"Median_earning\", \n",
    "                                     title_3=\"price_to_earning\")\n",
    "\n",
    "eng_cym_region_low_q = merge_three_datasets(6, title_1=\"Low_q_Median_price\", title_2=\"Low_q_Median_earning\", \n",
    "                                           title_3=\"Low_q_price_to_earning\")\n",
    "\n",
    "eng_cym_region_merged = pd.merge(eng_cym_region, eng_cym_region_low_q, on=['Code', 'Name', 'Year'])\n",
    "column_order = ['Code',\t'Name',\t'Year',\t'Median_price', 'Low_q_Median_price', \n",
    "                'Median_earning', 'Low_q_Median_earning', 'price_to_earning', 'Low_q_price_to_earning']\n",
    "eng_cym_region_merged = eng_cym_region_merged[column_order]\n",
    "eng_cym_region_merged"
   ]
  },
  {
   "cell_type": "markdown",
   "id": "29282236-76be-48cd-810d-5e2fcbf1602e",
   "metadata": {},
   "source": [
    "## Median house price, Gross annual, and its ratio from England and Wales, 1997-2022\n",
    "### Country and Region"
   ]
  },
  {
   "cell_type": "code",
   "execution_count": null,
   "id": "581e0990-b2c4-4556-8957-a53954f9d304",
   "metadata": {
    "scrolled": true
   },
   "outputs": [],
   "source": [
    "eng_cym_county = merge_three_datasets(9, title_1=\"Median_price\", title_2=\"Median_earning\", \n",
    "                                      title_3=\"price_to_earning\")\n",
    "eng_cym_county_low_q = merge_three_datasets(12, title_1=\"Low_q_Median_price\", title_2=\"Low_q_Median_earning\", \n",
    "                                           title_3=\"Low_q_price_to_earning\")\n",
    "\n",
    "eng_cym_county_merged = pd.merge(eng_cym_county, eng_cym_county_low_q, on=['Code', 'Name', 'Year'])\n",
    "column_order = ['Code',\t'Name',\t'Year',\t'Median_price', 'Low_q_Median_price', \n",
    "                'Median_earning', 'Low_q_Median_earning', 'price_to_earning', 'Low_q_price_to_earning']\n",
    "eng_cym_county_merged = eng_cym_county_merged[column_order]\n",
    "eng_cym_county_merged"
   ]
  },
  {
   "cell_type": "markdown",
   "id": "88167f7c-e521-49aa-aa63-51f3edc3297d",
   "metadata": {},
   "source": [
    "## Median house price, Gross annual, and its ratio from England and Wales, 1997-2022\n",
    "### Local Authority District\n",
    "\n",
    "### N.B: Here some NaNs are observed"
   ]
  },
  {
   "cell_type": "code",
   "execution_count": null,
   "id": "3140216d-4f5d-45f0-bedb-e99bc4ab5cd4",
   "metadata": {},
   "outputs": [],
   "source": [
    "eng_cym_local = merge_three_datasets(9, title_1=\"Median_price\", title_2=\"Median_earning\", \n",
    "                                      title_3=\"price_to_earning\")\n",
    "eng_cym_local_low_q = merge_three_datasets(12, title_1=\"Low_q_Median_price\", title_2=\"Low_q_Median_earning\", \n",
    "                                           title_3=\"Low_q_price_to_earning\")\n",
    "\n",
    "eng_cym_local_merged = pd.merge(eng_cym_local, eng_cym_local_low_q, on=['Code', 'Name', 'Year'])\n",
    "column_order = ['Code',\t'Name',\t'Year',\t'Median_price', 'Low_q_Median_price', \n",
    "                'Median_earning', 'Low_q_Median_earning', 'price_to_earning', 'Low_q_price_to_earning']\n",
    "eng_cym_local_merged = eng_cym_local_merged[column_order]\n",
    "eng_cym_local_merged"
   ]
  },
  {
   "cell_type": "code",
   "execution_count": null,
   "id": "64a9af7e-2919-44d5-be98-529d1f04c0ef",
   "metadata": {},
   "outputs": [],
   "source": [
    "eng_cym_region_merged.to_csv('price_earnings_eng_cym_wrangled.csv', index=False)"
   ]
  },
  {
   "cell_type": "code",
   "execution_count": null,
   "id": "10e224fd-19e2-4a4e-b32f-8379e84f0b12",
   "metadata": {},
   "outputs": [],
   "source": []
  }
 ],
 "metadata": {
  "kernelspec": {
   "display_name": "Python 3 (ipykernel)",
   "language": "python",
   "name": "python3"
  },
  "language_info": {
   "codemirror_mode": {
    "name": "ipython",
    "version": 3
   },
   "file_extension": ".py",
   "mimetype": "text/x-python",
   "name": "python",
   "nbconvert_exporter": "python",
   "pygments_lexer": "ipython3",
   "version": "3.10.9"
  }
 },
 "nbformat": 4,
 "nbformat_minor": 5
}
