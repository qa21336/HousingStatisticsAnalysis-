{
  "cells": [
    {
      "cell_type": "markdown",
      "metadata": {
        "id": "view-in-github",
        "colab_type": "text"
      },
      "source": [
        "<a href=\"https://colab.research.google.com/github/qa21336/HousingStatisticsAnalysis-/blob/main/inflation.ipynb\" target=\"_parent\"><img src=\"https://colab.research.google.com/assets/colab-badge.svg\" alt=\"Open In Colab\"/></a>"
      ]
    },
    {
      "cell_type": "code",
      "execution_count": null,
      "id": "394691ab-be5e-4aa1-a41c-38ef80224ffd",
      "metadata": {
        "id": "394691ab-be5e-4aa1-a41c-38ef80224ffd"
      },
      "outputs": [],
      "source": [
        "import pandas as pd\n",
        "\n",
        "# Path to the Excel file\n",
        "file_path = 'statistic_id306648_inflation-rate-in-the-uk-1989-2024.xlsx'\n",
        "\n",
        "# Assuming the data is in the first sheet, and the first row is the header\n",
        "# Adjust 'sheet_name' and 'header' as needed\n",
        "df = pd.read_excel(file_path, sheet_name=1, header=0)\n"
      ]
    },
    {
      "cell_type": "code",
      "execution_count": null,
      "id": "b81985f2-e0eb-46fe-9873-b2c1c06088fa",
      "metadata": {
        "id": "b81985f2-e0eb-46fe-9873-b2c1c06088fa",
        "outputId": "97d9c23d-0a79-4655-f9a7-de3784024999"
      },
      "outputs": [
        {
          "name": "stdout",
          "output_type": "stream",
          "text": [
            "<class 'pandas.core.frame.DataFrame'>\n",
            "RangeIndex: 5 entries, 0 to 4\n",
            "Data columns (total 4 columns):\n",
            " #   Column      Non-Null Count  Dtype  \n",
            "---  ------      --------------  -----  \n",
            " 0   Unnamed: 0  0 non-null      float64\n",
            " 1   Unnamed: 1  3 non-null      object \n",
            " 2   Unnamed: 2  1 non-null      float64\n",
            " 3   Unnamed: 3  1 non-null      object \n",
            "dtypes: float64(2), object(2)\n",
            "memory usage: 288.0+ bytes\n",
            "None\n"
          ]
        },
        {
          "data": {
            "text/html": [
              "<div>\n",
              "<style scoped>\n",
              "    .dataframe tbody tr th:only-of-type {\n",
              "        vertical-align: middle;\n",
              "    }\n",
              "\n",
              "    .dataframe tbody tr th {\n",
              "        vertical-align: top;\n",
              "    }\n",
              "\n",
              "    .dataframe thead th {\n",
              "        text-align: right;\n",
              "    }\n",
              "</style>\n",
              "<table border=\"1\" class=\"dataframe\">\n",
              "  <thead>\n",
              "    <tr style=\"text-align: right;\">\n",
              "      <th></th>\n",
              "      <th>Unnamed: 0</th>\n",
              "      <th>Unnamed: 1</th>\n",
              "      <th>Unnamed: 2</th>\n",
              "      <th>Unnamed: 3</th>\n",
              "    </tr>\n",
              "  </thead>\n",
              "  <tbody>\n",
              "    <tr>\n",
              "      <th>0</th>\n",
              "      <td>NaN</td>\n",
              "      <td>NaN</td>\n",
              "      <td>NaN</td>\n",
              "      <td>NaN</td>\n",
              "    </tr>\n",
              "    <tr>\n",
              "      <th>1</th>\n",
              "      <td>NaN</td>\n",
              "      <td>Inflation rate in the UK 1989-2024</td>\n",
              "      <td>NaN</td>\n",
              "      <td>NaN</td>\n",
              "    </tr>\n",
              "    <tr>\n",
              "      <th>2</th>\n",
              "      <td>NaN</td>\n",
              "      <td>Inflation rate for the Consumer Price Index (C...</td>\n",
              "      <td>NaN</td>\n",
              "      <td>NaN</td>\n",
              "    </tr>\n",
              "    <tr>\n",
              "      <th>3</th>\n",
              "      <td>NaN</td>\n",
              "      <td>NaN</td>\n",
              "      <td>NaN</td>\n",
              "      <td>NaN</td>\n",
              "    </tr>\n",
              "    <tr>\n",
              "      <th>4</th>\n",
              "      <td>NaN</td>\n",
              "      <td>Jan 89</td>\n",
              "      <td>4.9</td>\n",
              "      <td>in %</td>\n",
              "    </tr>\n",
              "  </tbody>\n",
              "</table>\n",
              "</div>"
            ],
            "text/plain": [
              "   Unnamed: 0                                         Unnamed: 1  Unnamed: 2  \\\n",
              "0         NaN                                                NaN         NaN   \n",
              "1         NaN                 Inflation rate in the UK 1989-2024         NaN   \n",
              "2         NaN  Inflation rate for the Consumer Price Index (C...         NaN   \n",
              "3         NaN                                                NaN         NaN   \n",
              "4         NaN                                             Jan 89         4.9   \n",
              "\n",
              "  Unnamed: 3  \n",
              "0        NaN  \n",
              "1        NaN  \n",
              "2        NaN  \n",
              "3        NaN  \n",
              "4       in %  "
            ]
          },
          "execution_count": 6,
          "metadata": {},
          "output_type": "execute_result"
        }
      ],
      "source": [
        "a = df.head(5)\n",
        "print(a.info())\n",
        "a"
      ]
    },
    {
      "cell_type": "code",
      "execution_count": null,
      "id": "da88628f-55ca-443d-9a45-fd01bcfadb16",
      "metadata": {
        "id": "da88628f-55ca-443d-9a45-fd01bcfadb16",
        "outputId": "ca6b2e6c-06d6-4ece-f65b-f23dfac9ec56"
      },
      "outputs": [
        {
          "data": {
            "text/html": [
              "<div>\n",
              "<style scoped>\n",
              "    .dataframe tbody tr th:only-of-type {\n",
              "        vertical-align: middle;\n",
              "    }\n",
              "\n",
              "    .dataframe tbody tr th {\n",
              "        vertical-align: top;\n",
              "    }\n",
              "\n",
              "    .dataframe thead th {\n",
              "        text-align: right;\n",
              "    }\n",
              "</style>\n",
              "<table border=\"1\" class=\"dataframe\">\n",
              "  <thead>\n",
              "    <tr style=\"text-align: right;\">\n",
              "      <th></th>\n",
              "      <th>date</th>\n",
              "      <th>inflation rate</th>\n",
              "    </tr>\n",
              "  </thead>\n",
              "  <tbody>\n",
              "    <tr>\n",
              "      <th>0</th>\n",
              "      <td>NaN</td>\n",
              "      <td>NaN</td>\n",
              "    </tr>\n",
              "    <tr>\n",
              "      <th>1</th>\n",
              "      <td>Inflation rate in the UK 1989-2024</td>\n",
              "      <td>NaN</td>\n",
              "    </tr>\n",
              "    <tr>\n",
              "      <th>2</th>\n",
              "      <td>Inflation rate for the Consumer Price Index (C...</td>\n",
              "      <td>NaN</td>\n",
              "    </tr>\n",
              "    <tr>\n",
              "      <th>3</th>\n",
              "      <td>NaN</td>\n",
              "      <td>NaN</td>\n",
              "    </tr>\n",
              "    <tr>\n",
              "      <th>4</th>\n",
              "      <td>Jan 89</td>\n",
              "      <td>4.9</td>\n",
              "    </tr>\n",
              "    <tr>\n",
              "      <th>...</th>\n",
              "      <td>...</td>\n",
              "      <td>...</td>\n",
              "    </tr>\n",
              "    <tr>\n",
              "      <th>420</th>\n",
              "      <td>Sep 23</td>\n",
              "      <td>6.7</td>\n",
              "    </tr>\n",
              "    <tr>\n",
              "      <th>421</th>\n",
              "      <td>Oct 23</td>\n",
              "      <td>4.6</td>\n",
              "    </tr>\n",
              "    <tr>\n",
              "      <th>422</th>\n",
              "      <td>Nov 23</td>\n",
              "      <td>3.9</td>\n",
              "    </tr>\n",
              "    <tr>\n",
              "      <th>423</th>\n",
              "      <td>Dec 23</td>\n",
              "      <td>4.0</td>\n",
              "    </tr>\n",
              "    <tr>\n",
              "      <th>424</th>\n",
              "      <td>Jan 24</td>\n",
              "      <td>4.0</td>\n",
              "    </tr>\n",
              "  </tbody>\n",
              "</table>\n",
              "<p>425 rows × 2 columns</p>\n",
              "</div>"
            ],
            "text/plain": [
              "                                                  date  inflation rate\n",
              "0                                                  NaN             NaN\n",
              "1                   Inflation rate in the UK 1989-2024             NaN\n",
              "2    Inflation rate for the Consumer Price Index (C...             NaN\n",
              "3                                                  NaN             NaN\n",
              "4                                               Jan 89             4.9\n",
              "..                                                 ...             ...\n",
              "420                                             Sep 23             6.7\n",
              "421                                             Oct 23             4.6\n",
              "422                                             Nov 23             3.9\n",
              "423                                             Dec 23             4.0\n",
              "424                                             Jan 24             4.0\n",
              "\n",
              "[425 rows x 2 columns]"
            ]
          },
          "execution_count": 7,
          "metadata": {},
          "output_type": "execute_result"
        }
      ],
      "source": [
        "df_cleaned = df[['Unnamed: 1', 'Unnamed: 2']].rename(columns={'Unnamed: 1': 'date', 'Unnamed: 2': 'inflation rate'})\n",
        "df_cleaned"
      ]
    },
    {
      "cell_type": "code",
      "execution_count": null,
      "id": "097d4101-8fae-4a8c-9821-b41a45abc6e2",
      "metadata": {
        "id": "097d4101-8fae-4a8c-9821-b41a45abc6e2",
        "outputId": "316f1682-78d7-4b94-c706-d29d8d9b5aab"
      },
      "outputs": [
        {
          "name": "stdout",
          "output_type": "stream",
          "text": [
            "       date  inflation rate\n",
            "0    Jan 89             4.9\n",
            "1    Feb 89             5.0\n",
            "2    Mar 89             5.0\n",
            "3    Apr 89             5.3\n",
            "4    May 89             5.3\n",
            "..      ...             ...\n",
            "416  Sep 23             6.7\n",
            "417  Oct 23             4.6\n",
            "418  Nov 23             3.9\n",
            "419  Dec 23             4.0\n",
            "420  Jan 24             4.0\n",
            "\n",
            "[421 rows x 2 columns]\n"
          ]
        }
      ],
      "source": [
        "rows_to_drop = df_cleaned.index[0:4]\n",
        "df_dropped = df_cleaned.drop(rows_to_drop).reset_index(drop=True)\n",
        "\n",
        "# Check the DataFrame after dropping rows\n",
        "print(df_dropped)"
      ]
    },
    {
      "cell_type": "code",
      "execution_count": null,
      "id": "fef4e64b-533b-486c-952a-e592e6abbad8",
      "metadata": {
        "id": "fef4e64b-533b-486c-952a-e592e6abbad8",
        "outputId": "5bb54f91-9104-46a0-8820-5ac313cd3244"
      },
      "outputs": [
        {
          "name": "stdout",
          "output_type": "stream",
          "text": [
            "<class 'pandas.core.frame.DataFrame'>\n",
            "RangeIndex: 421 entries, 0 to 420\n",
            "Data columns (total 2 columns):\n",
            " #   Column          Non-Null Count  Dtype  \n",
            "---  ------          --------------  -----  \n",
            " 0   date            421 non-null    object \n",
            " 1   inflation rate  421 non-null    float64\n",
            "dtypes: float64(1), object(1)\n",
            "memory usage: 6.7+ KB\n"
          ]
        }
      ],
      "source": [
        "df_dropped.info()"
      ]
    },
    {
      "cell_type": "code",
      "execution_count": null,
      "id": "928acf74-d0ba-458f-81d6-5f084f89fd9b",
      "metadata": {
        "id": "928acf74-d0ba-458f-81d6-5f084f89fd9b",
        "outputId": "c0e59e3a-df44-41f3-e1aa-729d367615c6"
      },
      "outputs": [
        {
          "name": "stdout",
          "output_type": "stream",
          "text": [
            "        date  inflation rate\n",
            "0 1989-01-01             4.9\n",
            "1 1989-02-01             5.0\n",
            "2 1989-03-01             5.0\n",
            "3 1989-04-01             5.3\n",
            "4 1989-05-01             5.3\n"
          ]
        }
      ],
      "source": [
        "df_dropped['date'] = pd.to_datetime(df_dropped['date'], format='%b %y')\n",
        "\n",
        "# Check the conversion\n",
        "print(df_dropped.head())"
      ]
    },
    {
      "cell_type": "code",
      "execution_count": null,
      "id": "aa294145-842a-4e50-a2a2-9a89e024c564",
      "metadata": {
        "id": "aa294145-842a-4e50-a2a2-9a89e024c564",
        "outputId": "62944be5-9853-442f-d7c5-587550caf457"
      },
      "outputs": [
        {
          "data": {
            "text/html": [
              "<div>\n",
              "<style scoped>\n",
              "    .dataframe tbody tr th:only-of-type {\n",
              "        vertical-align: middle;\n",
              "    }\n",
              "\n",
              "    .dataframe tbody tr th {\n",
              "        vertical-align: top;\n",
              "    }\n",
              "\n",
              "    .dataframe thead th {\n",
              "        text-align: right;\n",
              "    }\n",
              "</style>\n",
              "<table border=\"1\" class=\"dataframe\">\n",
              "  <thead>\n",
              "    <tr style=\"text-align: right;\">\n",
              "      <th></th>\n",
              "      <th>date</th>\n",
              "      <th>inflation rate</th>\n",
              "    </tr>\n",
              "  </thead>\n",
              "  <tbody>\n",
              "    <tr>\n",
              "      <th>0</th>\n",
              "      <td>1989-01-01</td>\n",
              "      <td>4.9</td>\n",
              "    </tr>\n",
              "    <tr>\n",
              "      <th>1</th>\n",
              "      <td>1989-02-01</td>\n",
              "      <td>5.0</td>\n",
              "    </tr>\n",
              "    <tr>\n",
              "      <th>2</th>\n",
              "      <td>1989-03-01</td>\n",
              "      <td>5.0</td>\n",
              "    </tr>\n",
              "    <tr>\n",
              "      <th>3</th>\n",
              "      <td>1989-04-01</td>\n",
              "      <td>5.3</td>\n",
              "    </tr>\n",
              "    <tr>\n",
              "      <th>4</th>\n",
              "      <td>1989-05-01</td>\n",
              "      <td>5.3</td>\n",
              "    </tr>\n",
              "  </tbody>\n",
              "</table>\n",
              "</div>"
            ],
            "text/plain": [
              "        date  inflation rate\n",
              "0 1989-01-01             4.9\n",
              "1 1989-02-01             5.0\n",
              "2 1989-03-01             5.0\n",
              "3 1989-04-01             5.3\n",
              "4 1989-05-01             5.3"
            ]
          },
          "execution_count": 22,
          "metadata": {},
          "output_type": "execute_result"
        }
      ],
      "source": [
        "df_dropped.head()"
      ]
    },
    {
      "cell_type": "code",
      "execution_count": null,
      "id": "161b795c-2a4e-4ebb-9dd1-549e3776349d",
      "metadata": {
        "id": "161b795c-2a4e-4ebb-9dd1-549e3776349d"
      },
      "outputs": [],
      "source": [
        "df_dropped['date_display'] = df_dropped['date'].dt.strftime('%b %y')"
      ]
    },
    {
      "cell_type": "code",
      "execution_count": null,
      "id": "6dec85fd-37bd-4123-b02b-2dea8b1f8bd1",
      "metadata": {
        "id": "6dec85fd-37bd-4123-b02b-2dea8b1f8bd1",
        "outputId": "97fd2acd-8fe8-448e-b093-ea0eec666687"
      },
      "outputs": [
        {
          "name": "stdout",
          "output_type": "stream",
          "text": [
            "        date  inflation rate date_display\n",
            "0 1989-01-01             4.9       Jan 89\n",
            "1 1989-02-01             5.0       Feb 89\n",
            "2 1989-03-01             5.0       Mar 89\n",
            "3 1989-04-01             5.3       Apr 89\n",
            "4 1989-05-01             5.3       May 89\n",
            "\n",
            "<class 'pandas.core.frame.DataFrame'>\n",
            "RangeIndex: 421 entries, 0 to 420\n",
            "Data columns (total 3 columns):\n",
            " #   Column          Non-Null Count  Dtype         \n",
            "---  ------          --------------  -----         \n",
            " 0   date            421 non-null    datetime64[ns]\n",
            " 1   inflation rate  421 non-null    float64       \n",
            " 2   date_display    421 non-null    object        \n",
            "dtypes: datetime64[ns](1), float64(1), object(1)\n",
            "memory usage: 10.0+ KB\n",
            "None\n"
          ]
        }
      ],
      "source": [
        "print(df_dropped.head())\n",
        "print()\n",
        "print(df_dropped.info())"
      ]
    }
  ],
  "metadata": {
    "kernelspec": {
      "display_name": "Python 3 (ipykernel)",
      "language": "python",
      "name": "python3"
    },
    "language_info": {
      "codemirror_mode": {
        "name": "ipython",
        "version": 3
      },
      "file_extension": ".py",
      "mimetype": "text/x-python",
      "name": "python",
      "nbconvert_exporter": "python",
      "pygments_lexer": "ipython3",
      "version": "3.10.5"
    },
    "colab": {
      "provenance": [],
      "include_colab_link": true
    }
  },
  "nbformat": 4,
  "nbformat_minor": 5
}