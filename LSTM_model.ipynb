{
  "nbformat": 4,
  "nbformat_minor": 0,
  "metadata": {
    "colab": {
      "provenance": [],
      "authorship_tag": "ABX9TyNtSnanjWh0uwsSJ0LP8xgt",
      "include_colab_link": true
    },
    "kernelspec": {
      "name": "python3",
      "display_name": "Python 3"
    },
    "language_info": {
      "name": "python"
    }
  },
  "cells": [
    {
      "cell_type": "markdown",
      "metadata": {
        "id": "view-in-github",
        "colab_type": "text"
      },
      "source": [
        "<a href=\"https://colab.research.google.com/github/qa21336/HousingStatisticsAnalysis-/blob/main/LSTM_model.ipynb\" target=\"_parent\"><img src=\"https://colab.research.google.com/assets/colab-badge.svg\" alt=\"Open In Colab\"/></a>"
      ]
    },
    {
      "cell_type": "code",
      "source": [
        "import pandas as pd\n",
        "from google.colab import drive\n",
        "drive.mount('/content/drive')"
      ],
      "metadata": {
        "colab": {
          "base_uri": "https://localhost:8080/"
        },
        "id": "zpbAhV80SC-9",
        "outputId": "e0c1ed79-49fb-41a0-de67-4342be3fe98d"
      },
      "execution_count": 1,
      "outputs": [
        {
          "output_type": "stream",
          "name": "stdout",
          "text": [
            "Mounted at /content/drive\n"
          ]
        }
      ]
    },
    {
      "cell_type": "markdown",
      "source": [
        "# Preproccessing\n",
        "\n",
        "Need data in (batch, timesteps, feature) format."
      ],
      "metadata": {
        "id": "h6DDvLJsRtGo"
      }
    },
    {
      "cell_type": "code",
      "execution_count": 2,
      "metadata": {
        "colab": {
          "base_uri": "https://localhost:8080/",
          "height": 261
        },
        "id": "qDvYSs3jRqdV",
        "outputId": "ea98b241-43d7-416a-e40d-c63e8fb1f194"
      },
      "outputs": [
        {
          "output_type": "execute_result",
          "data": {
            "text/plain": [
              "   Year country      Persons         Males       Females  affordability  \\\n",
              "0  2001       E  49449746.00  2.416559e+07  2.528416e+07       4.500000   \n",
              "1  2001       E  49468872.75  2.417618e+07  2.529269e+07       4.551667   \n",
              "2  2001       E  49487999.50  2.418678e+07  2.530122e+07       4.603333   \n",
              "3  2001       E  49507126.25  2.419738e+07  2.530975e+07       4.655000   \n",
              "4  2001       E  49526253.00  2.420798e+07  2.531828e+07       4.706667   \n",
              "\n",
              "   Started - All Dwellings  Completed - All Dwellings  mm/yyyy  \\\n",
              "0                 146770.0                   129510.0  01/2001   \n",
              "1                 147097.5                   130117.5  02/2001   \n",
              "2                 147425.0                   130725.0  03/2001   \n",
              "3                 147752.5                   131332.5  04/2001   \n",
              "4                 148080.0                   131940.0  05/2001   \n",
              "\n",
              "   employment_rate  inflation_rate   AveragePrice  SalesVolume  \\\n",
              "0             72.7             0.9   96649.186160   717.574850   \n",
              "1             72.6             0.8   96675.059120   741.808383   \n",
              "2             72.6             0.9   97172.835571   995.470060   \n",
              "3             72.7             1.2   98461.905336   976.658683   \n",
              "4             72.7             1.7  100160.766675  1097.919162   \n",
              "\n",
              "   NewSalesVolume  OldSalesVolume  \n",
              "0       55.428144      662.146707  \n",
              "1       71.586826      670.221557  \n",
              "2      109.086826      886.383234  \n",
              "3       88.502994      888.155689  \n",
              "4      100.482036      997.437126  "
            ],
            "text/html": [
              "\n",
              "  <div id=\"df-b8956deb-b705-4b9c-bc0b-2d2e4ca618a1\" class=\"colab-df-container\">\n",
              "    <div>\n",
              "<style scoped>\n",
              "    .dataframe tbody tr th:only-of-type {\n",
              "        vertical-align: middle;\n",
              "    }\n",
              "\n",
              "    .dataframe tbody tr th {\n",
              "        vertical-align: top;\n",
              "    }\n",
              "\n",
              "    .dataframe thead th {\n",
              "        text-align: right;\n",
              "    }\n",
              "</style>\n",
              "<table border=\"1\" class=\"dataframe\">\n",
              "  <thead>\n",
              "    <tr style=\"text-align: right;\">\n",
              "      <th></th>\n",
              "      <th>Year</th>\n",
              "      <th>country</th>\n",
              "      <th>Persons</th>\n",
              "      <th>Males</th>\n",
              "      <th>Females</th>\n",
              "      <th>affordability</th>\n",
              "      <th>Started - All Dwellings</th>\n",
              "      <th>Completed - All Dwellings</th>\n",
              "      <th>mm/yyyy</th>\n",
              "      <th>employment_rate</th>\n",
              "      <th>inflation_rate</th>\n",
              "      <th>AveragePrice</th>\n",
              "      <th>SalesVolume</th>\n",
              "      <th>NewSalesVolume</th>\n",
              "      <th>OldSalesVolume</th>\n",
              "    </tr>\n",
              "  </thead>\n",
              "  <tbody>\n",
              "    <tr>\n",
              "      <th>0</th>\n",
              "      <td>2001</td>\n",
              "      <td>E</td>\n",
              "      <td>49449746.00</td>\n",
              "      <td>2.416559e+07</td>\n",
              "      <td>2.528416e+07</td>\n",
              "      <td>4.500000</td>\n",
              "      <td>146770.0</td>\n",
              "      <td>129510.0</td>\n",
              "      <td>01/2001</td>\n",
              "      <td>72.7</td>\n",
              "      <td>0.9</td>\n",
              "      <td>96649.186160</td>\n",
              "      <td>717.574850</td>\n",
              "      <td>55.428144</td>\n",
              "      <td>662.146707</td>\n",
              "    </tr>\n",
              "    <tr>\n",
              "      <th>1</th>\n",
              "      <td>2001</td>\n",
              "      <td>E</td>\n",
              "      <td>49468872.75</td>\n",
              "      <td>2.417618e+07</td>\n",
              "      <td>2.529269e+07</td>\n",
              "      <td>4.551667</td>\n",
              "      <td>147097.5</td>\n",
              "      <td>130117.5</td>\n",
              "      <td>02/2001</td>\n",
              "      <td>72.6</td>\n",
              "      <td>0.8</td>\n",
              "      <td>96675.059120</td>\n",
              "      <td>741.808383</td>\n",
              "      <td>71.586826</td>\n",
              "      <td>670.221557</td>\n",
              "    </tr>\n",
              "    <tr>\n",
              "      <th>2</th>\n",
              "      <td>2001</td>\n",
              "      <td>E</td>\n",
              "      <td>49487999.50</td>\n",
              "      <td>2.418678e+07</td>\n",
              "      <td>2.530122e+07</td>\n",
              "      <td>4.603333</td>\n",
              "      <td>147425.0</td>\n",
              "      <td>130725.0</td>\n",
              "      <td>03/2001</td>\n",
              "      <td>72.6</td>\n",
              "      <td>0.9</td>\n",
              "      <td>97172.835571</td>\n",
              "      <td>995.470060</td>\n",
              "      <td>109.086826</td>\n",
              "      <td>886.383234</td>\n",
              "    </tr>\n",
              "    <tr>\n",
              "      <th>3</th>\n",
              "      <td>2001</td>\n",
              "      <td>E</td>\n",
              "      <td>49507126.25</td>\n",
              "      <td>2.419738e+07</td>\n",
              "      <td>2.530975e+07</td>\n",
              "      <td>4.655000</td>\n",
              "      <td>147752.5</td>\n",
              "      <td>131332.5</td>\n",
              "      <td>04/2001</td>\n",
              "      <td>72.7</td>\n",
              "      <td>1.2</td>\n",
              "      <td>98461.905336</td>\n",
              "      <td>976.658683</td>\n",
              "      <td>88.502994</td>\n",
              "      <td>888.155689</td>\n",
              "    </tr>\n",
              "    <tr>\n",
              "      <th>4</th>\n",
              "      <td>2001</td>\n",
              "      <td>E</td>\n",
              "      <td>49526253.00</td>\n",
              "      <td>2.420798e+07</td>\n",
              "      <td>2.531828e+07</td>\n",
              "      <td>4.706667</td>\n",
              "      <td>148080.0</td>\n",
              "      <td>131940.0</td>\n",
              "      <td>05/2001</td>\n",
              "      <td>72.7</td>\n",
              "      <td>1.7</td>\n",
              "      <td>100160.766675</td>\n",
              "      <td>1097.919162</td>\n",
              "      <td>100.482036</td>\n",
              "      <td>997.437126</td>\n",
              "    </tr>\n",
              "  </tbody>\n",
              "</table>\n",
              "</div>\n",
              "    <div class=\"colab-df-buttons\">\n",
              "\n",
              "  <div class=\"colab-df-container\">\n",
              "    <button class=\"colab-df-convert\" onclick=\"convertToInteractive('df-b8956deb-b705-4b9c-bc0b-2d2e4ca618a1')\"\n",
              "            title=\"Convert this dataframe to an interactive table.\"\n",
              "            style=\"display:none;\">\n",
              "\n",
              "  <svg xmlns=\"http://www.w3.org/2000/svg\" height=\"24px\" viewBox=\"0 -960 960 960\">\n",
              "    <path d=\"M120-120v-720h720v720H120Zm60-500h600v-160H180v160Zm220 220h160v-160H400v160Zm0 220h160v-160H400v160ZM180-400h160v-160H180v160Zm440 0h160v-160H620v160ZM180-180h160v-160H180v160Zm440 0h160v-160H620v160Z\"/>\n",
              "  </svg>\n",
              "    </button>\n",
              "\n",
              "  <style>\n",
              "    .colab-df-container {\n",
              "      display:flex;\n",
              "      gap: 12px;\n",
              "    }\n",
              "\n",
              "    .colab-df-convert {\n",
              "      background-color: #E8F0FE;\n",
              "      border: none;\n",
              "      border-radius: 50%;\n",
              "      cursor: pointer;\n",
              "      display: none;\n",
              "      fill: #1967D2;\n",
              "      height: 32px;\n",
              "      padding: 0 0 0 0;\n",
              "      width: 32px;\n",
              "    }\n",
              "\n",
              "    .colab-df-convert:hover {\n",
              "      background-color: #E2EBFA;\n",
              "      box-shadow: 0px 1px 2px rgba(60, 64, 67, 0.3), 0px 1px 3px 1px rgba(60, 64, 67, 0.15);\n",
              "      fill: #174EA6;\n",
              "    }\n",
              "\n",
              "    .colab-df-buttons div {\n",
              "      margin-bottom: 4px;\n",
              "    }\n",
              "\n",
              "    [theme=dark] .colab-df-convert {\n",
              "      background-color: #3B4455;\n",
              "      fill: #D2E3FC;\n",
              "    }\n",
              "\n",
              "    [theme=dark] .colab-df-convert:hover {\n",
              "      background-color: #434B5C;\n",
              "      box-shadow: 0px 1px 3px 1px rgba(0, 0, 0, 0.15);\n",
              "      filter: drop-shadow(0px 1px 2px rgba(0, 0, 0, 0.3));\n",
              "      fill: #FFFFFF;\n",
              "    }\n",
              "  </style>\n",
              "\n",
              "    <script>\n",
              "      const buttonEl =\n",
              "        document.querySelector('#df-b8956deb-b705-4b9c-bc0b-2d2e4ca618a1 button.colab-df-convert');\n",
              "      buttonEl.style.display =\n",
              "        google.colab.kernel.accessAllowed ? 'block' : 'none';\n",
              "\n",
              "      async function convertToInteractive(key) {\n",
              "        const element = document.querySelector('#df-b8956deb-b705-4b9c-bc0b-2d2e4ca618a1');\n",
              "        const dataTable =\n",
              "          await google.colab.kernel.invokeFunction('convertToInteractive',\n",
              "                                                    [key], {});\n",
              "        if (!dataTable) return;\n",
              "\n",
              "        const docLinkHtml = 'Like what you see? Visit the ' +\n",
              "          '<a target=\"_blank\" href=https://colab.research.google.com/notebooks/data_table.ipynb>data table notebook</a>'\n",
              "          + ' to learn more about interactive tables.';\n",
              "        element.innerHTML = '';\n",
              "        dataTable['output_type'] = 'display_data';\n",
              "        await google.colab.output.renderOutput(dataTable, element);\n",
              "        const docLink = document.createElement('div');\n",
              "        docLink.innerHTML = docLinkHtml;\n",
              "        element.appendChild(docLink);\n",
              "      }\n",
              "    </script>\n",
              "  </div>\n",
              "\n",
              "\n",
              "<div id=\"df-030ad75c-a5af-453c-b96d-d8e32526ec82\">\n",
              "  <button class=\"colab-df-quickchart\" onclick=\"quickchart('df-030ad75c-a5af-453c-b96d-d8e32526ec82')\"\n",
              "            title=\"Suggest charts\"\n",
              "            style=\"display:none;\">\n",
              "\n",
              "<svg xmlns=\"http://www.w3.org/2000/svg\" height=\"24px\"viewBox=\"0 0 24 24\"\n",
              "     width=\"24px\">\n",
              "    <g>\n",
              "        <path d=\"M19 3H5c-1.1 0-2 .9-2 2v14c0 1.1.9 2 2 2h14c1.1 0 2-.9 2-2V5c0-1.1-.9-2-2-2zM9 17H7v-7h2v7zm4 0h-2V7h2v10zm4 0h-2v-4h2v4z\"/>\n",
              "    </g>\n",
              "</svg>\n",
              "  </button>\n",
              "\n",
              "<style>\n",
              "  .colab-df-quickchart {\n",
              "      --bg-color: #E8F0FE;\n",
              "      --fill-color: #1967D2;\n",
              "      --hover-bg-color: #E2EBFA;\n",
              "      --hover-fill-color: #174EA6;\n",
              "      --disabled-fill-color: #AAA;\n",
              "      --disabled-bg-color: #DDD;\n",
              "  }\n",
              "\n",
              "  [theme=dark] .colab-df-quickchart {\n",
              "      --bg-color: #3B4455;\n",
              "      --fill-color: #D2E3FC;\n",
              "      --hover-bg-color: #434B5C;\n",
              "      --hover-fill-color: #FFFFFF;\n",
              "      --disabled-bg-color: #3B4455;\n",
              "      --disabled-fill-color: #666;\n",
              "  }\n",
              "\n",
              "  .colab-df-quickchart {\n",
              "    background-color: var(--bg-color);\n",
              "    border: none;\n",
              "    border-radius: 50%;\n",
              "    cursor: pointer;\n",
              "    display: none;\n",
              "    fill: var(--fill-color);\n",
              "    height: 32px;\n",
              "    padding: 0;\n",
              "    width: 32px;\n",
              "  }\n",
              "\n",
              "  .colab-df-quickchart:hover {\n",
              "    background-color: var(--hover-bg-color);\n",
              "    box-shadow: 0 1px 2px rgba(60, 64, 67, 0.3), 0 1px 3px 1px rgba(60, 64, 67, 0.15);\n",
              "    fill: var(--button-hover-fill-color);\n",
              "  }\n",
              "\n",
              "  .colab-df-quickchart-complete:disabled,\n",
              "  .colab-df-quickchart-complete:disabled:hover {\n",
              "    background-color: var(--disabled-bg-color);\n",
              "    fill: var(--disabled-fill-color);\n",
              "    box-shadow: none;\n",
              "  }\n",
              "\n",
              "  .colab-df-spinner {\n",
              "    border: 2px solid var(--fill-color);\n",
              "    border-color: transparent;\n",
              "    border-bottom-color: var(--fill-color);\n",
              "    animation:\n",
              "      spin 1s steps(1) infinite;\n",
              "  }\n",
              "\n",
              "  @keyframes spin {\n",
              "    0% {\n",
              "      border-color: transparent;\n",
              "      border-bottom-color: var(--fill-color);\n",
              "      border-left-color: var(--fill-color);\n",
              "    }\n",
              "    20% {\n",
              "      border-color: transparent;\n",
              "      border-left-color: var(--fill-color);\n",
              "      border-top-color: var(--fill-color);\n",
              "    }\n",
              "    30% {\n",
              "      border-color: transparent;\n",
              "      border-left-color: var(--fill-color);\n",
              "      border-top-color: var(--fill-color);\n",
              "      border-right-color: var(--fill-color);\n",
              "    }\n",
              "    40% {\n",
              "      border-color: transparent;\n",
              "      border-right-color: var(--fill-color);\n",
              "      border-top-color: var(--fill-color);\n",
              "    }\n",
              "    60% {\n",
              "      border-color: transparent;\n",
              "      border-right-color: var(--fill-color);\n",
              "    }\n",
              "    80% {\n",
              "      border-color: transparent;\n",
              "      border-right-color: var(--fill-color);\n",
              "      border-bottom-color: var(--fill-color);\n",
              "    }\n",
              "    90% {\n",
              "      border-color: transparent;\n",
              "      border-bottom-color: var(--fill-color);\n",
              "    }\n",
              "  }\n",
              "</style>\n",
              "\n",
              "  <script>\n",
              "    async function quickchart(key) {\n",
              "      const quickchartButtonEl =\n",
              "        document.querySelector('#' + key + ' button');\n",
              "      quickchartButtonEl.disabled = true;  // To prevent multiple clicks.\n",
              "      quickchartButtonEl.classList.add('colab-df-spinner');\n",
              "      try {\n",
              "        const charts = await google.colab.kernel.invokeFunction(\n",
              "            'suggestCharts', [key], {});\n",
              "      } catch (error) {\n",
              "        console.error('Error during call to suggestCharts:', error);\n",
              "      }\n",
              "      quickchartButtonEl.classList.remove('colab-df-spinner');\n",
              "      quickchartButtonEl.classList.add('colab-df-quickchart-complete');\n",
              "    }\n",
              "    (() => {\n",
              "      let quickchartButtonEl =\n",
              "        document.querySelector('#df-030ad75c-a5af-453c-b96d-d8e32526ec82 button');\n",
              "      quickchartButtonEl.style.display =\n",
              "        google.colab.kernel.accessAllowed ? 'block' : 'none';\n",
              "    })();\n",
              "  </script>\n",
              "</div>\n",
              "    </div>\n",
              "  </div>\n"
            ],
            "application/vnd.google.colaboratory.intrinsic+json": {
              "type": "dataframe",
              "variable_name": "df",
              "summary": "{\n  \"name\": \"df\",\n  \"rows\": 456,\n  \"fields\": [\n    {\n      \"column\": \"Year\",\n      \"properties\": {\n        \"dtype\": \"number\",\n        \"std\": 5,\n        \"min\": 2001,\n        \"max\": 2019,\n        \"num_unique_values\": 19,\n        \"samples\": [\n          2001,\n          2006,\n          2012\n        ],\n        \"semantic_type\": \"\",\n        \"description\": \"\"\n      }\n    },\n    {\n      \"column\": \"country\",\n      \"properties\": {\n        \"dtype\": \"category\",\n        \"num_unique_values\": 2,\n        \"samples\": [\n          \"W\",\n          \"E\"\n        ],\n        \"semantic_type\": \"\",\n        \"description\": \"\"\n      }\n    },\n    {\n      \"column\": \"Persons\",\n      \"properties\": {\n        \"dtype\": \"number\",\n        \"std\": 24996476.024287894,\n        \"min\": 2910232.0,\n        \"max\": 56528206.583333336,\n        \"num_unique_values\": 456,\n        \"samples\": [\n          3083214.0,\n          50297458.5\n        ],\n        \"semantic_type\": \"\",\n        \"description\": \"\"\n      }\n    },\n    {\n      \"column\": \"Males\",\n      \"properties\": {\n        \"dtype\": \"number\",\n        \"std\": 12301370.304652777,\n        \"min\": 1408671.0,\n        \"max\": 27969902.416666668,\n        \"num_unique_values\": 456,\n        \"samples\": [\n          1515734.3333333333,\n          24626811.25\n        ],\n        \"semantic_type\": \"\",\n        \"description\": \"\"\n      }\n    },\n    {\n      \"column\": \"Females\",\n      \"properties\": {\n        \"dtype\": \"number\",\n        \"std\": 12695493.043902243,\n        \"min\": 1501561.0,\n        \"max\": 28558304.166666668,\n        \"num_unique_values\": 456,\n        \"samples\": [\n          1567479.6666666667,\n          25670647.25\n        ],\n        \"semantic_type\": \"\",\n        \"description\": \"\"\n      }\n    },\n    {\n      \"column\": \"affordability\",\n      \"properties\": {\n        \"dtype\": \"number\",\n        \"std\": 1.0110551102177545,\n        \"min\": 3.33,\n        \"max\": 8.04,\n        \"num_unique_values\": 426,\n        \"samples\": [\n          5.833333333333333,\n          7.105\n        ],\n        \"semantic_type\": \"\",\n        \"description\": \"\"\n      }\n    },\n    {\n      \"column\": \"Started - All Dwellings\",\n      \"properties\": {\n        \"dtype\": \"number\",\n        \"std\": 70866.33446468871,\n        \"min\": 2362.5,\n        \"max\": 183600.0,\n        \"num_unique_values\": 452,\n        \"samples\": [\n          10025.0,\n          175985.0\n        ],\n        \"semantic_type\": \"\",\n        \"description\": \"\"\n      }\n    },\n    {\n      \"column\": \"Completed - All Dwellings\",\n      \"properties\": {\n        \"dtype\": \"number\",\n        \"std\": 69178.03847097552,\n        \"min\": 2357.5,\n        \"max\": 177880.0,\n        \"num_unique_values\": 451,\n        \"samples\": [\n          9340.0,\n          155415.0\n        ],\n        \"semantic_type\": \"\",\n        \"description\": \"\"\n      }\n    },\n    {\n      \"column\": \"mm/yyyy\",\n      \"properties\": {\n        \"dtype\": \"object\",\n        \"num_unique_values\": 228,\n        \"samples\": [\n          \"12/2018\",\n          \"07/2006\"\n        ],\n        \"semantic_type\": \"\",\n        \"description\": \"\"\n      }\n    },\n    {\n      \"column\": \"employment_rate\",\n      \"properties\": {\n        \"dtype\": \"number\",\n        \"std\": 1.5086545522197234,\n        \"min\": 70.1,\n        \"max\": 76.1,\n        \"num_unique_values\": 52,\n        \"samples\": [\n          70.3,\n          74.9\n        ],\n        \"semantic_type\": \"\",\n        \"description\": \"\"\n      }\n    },\n    {\n      \"column\": \"inflation_rate\",\n      \"properties\": {\n        \"dtype\": \"number\",\n        \"std\": 1.1029060584043102,\n        \"min\": -0.1,\n        \"max\": 5.2,\n        \"num_unique_values\": 47,\n        \"samples\": [\n          5.2,\n          3.6\n        ],\n        \"semantic_type\": \"\",\n        \"description\": \"\"\n      }\n    },\n    {\n      \"column\": \"AveragePrice\",\n      \"properties\": {\n        \"dtype\": \"number\",\n        \"std\": 53237.25204761109,\n        \"min\": 55248.31855478261,\n        \"max\": 278724.53548994014,\n        \"num_unique_values\": 456,\n        \"samples\": [\n          128068.13422347826,\n          157638.1402529042\n        ],\n        \"semantic_type\": \"\",\n        \"description\": \"\"\n      }\n    },\n    {\n      \"column\": \"SalesVolume\",\n      \"properties\": {\n        \"dtype\": \"number\",\n        \"std\": 318.99289820745105,\n        \"min\": 101.91304347826087,\n        \"max\": 1458.311377245509,\n        \"num_unique_values\": 454,\n        \"samples\": [\n          326.0869565217391,\n          1260.248502994012\n        ],\n        \"semantic_type\": \"\",\n        \"description\": \"\"\n      }\n    },\n    {\n      \"column\": \"NewSalesVolume\",\n      \"properties\": {\n        \"dtype\": \"number\",\n        \"std\": 37.08159264001165,\n        \"min\": 7.826086956521739,\n        \"max\": 187.11077844311376,\n        \"num_unique_values\": 418,\n        \"samples\": [\n          12.173913043478262,\n          20.17391304347826\n        ],\n        \"semantic_type\": \"\",\n        \"description\": \"\"\n      }\n    },\n    {\n      \"column\": \"OldSalesVolume\",\n      \"properties\": {\n        \"dtype\": \"number\",\n        \"std\": 287.1717661888925,\n        \"min\": 91.21739130434784,\n        \"max\": 1329.2874251497003,\n        \"num_unique_values\": 450,\n        \"samples\": [\n          471.9130434782609,\n          304.17391304347825\n        ],\n        \"semantic_type\": \"\",\n        \"description\": \"\"\n      }\n    }\n  ]\n}"
            }
          },
          "metadata": {},
          "execution_count": 2
        }
      ],
      "source": [
        "df = pd.read_csv('/content/drive/MyDrive/ADS Datasets/cleaned_interpolated.csv')\n",
        "df.head()"
      ]
    },
    {
      "cell_type": "markdown",
      "source": [
        "Different models for different countries, so lets start with England.\n",
        "\n",
        "Also, drop AveragePrice to make it a fair test.\n",
        "\n",
        "Then Train-Test split."
      ],
      "metadata": {
        "id": "tLhCfmamTNlN"
      }
    },
    {
      "cell_type": "code",
      "source": [
        "import numpy as np\n",
        "\n",
        "dfEngland = df.loc[df[\"country\"] == \"E\"].drop([\"country\", \"AveragePrice\", \"Year\", \"mm/yyyy\"], axis=1)\n",
        "affordEng = dfEngland.pop(\"affordability\")"
      ],
      "metadata": {
        "id": "ZNN6k3a7SnQQ"
      },
      "execution_count": 3,
      "outputs": []
    },
    {
      "cell_type": "markdown",
      "source": [
        "Add a column for next years affordability."
      ],
      "metadata": {
        "id": "zKC2I9H9JESN"
      }
    },
    {
      "cell_type": "code",
      "source": [
        "# Make next years affordability and remove last datapoint (so dims line up)\n",
        "nyAffordEng = affordEng[12:]\n",
        "newDfEngland = dfEngland[:-1]\n",
        "\n",
        "# Convert to numpy\n",
        "dfEnglandnp = np.array(newDfEngland)\n",
        "print(dfEnglandnp.shape)\n",
        "\n",
        "affordEngnp = np.array(nyAffordEng)\n",
        "print(affordEngnp.shape)"
      ],
      "metadata": {
        "colab": {
          "base_uri": "https://localhost:8080/"
        },
        "id": "Is3HVNL8JOuv",
        "outputId": "759b515f-02fa-4cac-b025-fbd086472d3e"
      },
      "execution_count": 34,
      "outputs": [
        {
          "output_type": "stream",
          "name": "stdout",
          "text": [
            "(227, 10)\n",
            "(216,)\n"
          ]
        }
      ]
    },
    {
      "cell_type": "code",
      "source": [
        "n = dfEnglandnp.shape[0]\n",
        "p = dfEnglandnp.shape[1]\n",
        "train_test_cutoff = int((0.8 * n) / 12) * 12 # Multiple of 12\n",
        "\n",
        "dfEnglandTrain = dfEnglandnp[:train_test_cutoff]\n",
        "dfEnglandTest = dfEnglandnp[train_test_cutoff:]\n",
        "affordEngTrain = affordEngnp[:train_test_cutoff]\n",
        "affordEngTest = affordEngnp[train_test_cutoff:]\n",
        "\n",
        "print(dfEnglandTrain.shape)\n",
        "print(dfEnglandTest.shape)\n",
        "print(affordEngTrain.shape)\n",
        "print(affordEngTest.shape)"
      ],
      "metadata": {
        "colab": {
          "base_uri": "https://localhost:8080/"
        },
        "id": "m_8JSB58c_8g",
        "outputId": "ad753806-9bf7-4312-9d65-6d879894d25c"
      },
      "execution_count": 35,
      "outputs": [
        {
          "output_type": "stream",
          "name": "stdout",
          "text": [
            "(180, 10)\n",
            "(47, 10)\n",
            "(180,)\n",
            "(36,)\n"
          ]
        }
      ]
    },
    {
      "cell_type": "code",
      "source": [
        "# Save normalisation constants\n",
        "dfEnglandTrMean = np.mean(dfEnglandTrain, axis=0)\n",
        "dfEnglandTrStd = np.std(dfEnglandTrain, axis=0)\n",
        "\n",
        "# Do normalisation (use same constansts for test)\n",
        "dfEnglandTrNorm = (dfEnglandTrain - dfEnglandTrMean) / dfEnglandTrStd\n",
        "dfEnglandTestNorm = (dfEnglandTest - dfEnglandTrMean) / dfEnglandTrStd\n",
        "dfEnglandWholeNorm = (newDfEngland - dfEnglandTrMean) / dfEnglandTrStd"
      ],
      "metadata": {
        "id": "lrKCbXvxfKpU"
      },
      "execution_count": 40,
      "outputs": []
    },
    {
      "cell_type": "markdown",
      "source": [
        "Now to reshape to (batch, timesteps, feature)."
      ],
      "metadata": {
        "id": "rj4LbUeYU0CT"
      }
    },
    {
      "cell_type": "code",
      "source": [
        "import tensorflow as tf\n",
        "from tensorflow.keras.preprocessing import timeseries_dataset_from_array\n",
        "\n",
        "windowSize = 12 # One year\n",
        "\n",
        "train = timeseries_dataset_from_array(dfEnglandTrNorm,\n",
        "                                        affordEngTrain,\n",
        "                                        windowSize,\n",
        "                                        batch_size=1)\n",
        "\n",
        "test = timeseries_dataset_from_array(dfEnglandTestNorm,\n",
        "                                        affordEngTest,\n",
        "                                        windowSize,\n",
        "                                        batch_size=1)\n",
        "\n",
        "whole = timeseries_dataset_from_array(dfEnglandWholeNorm,\n",
        "                                        None,\n",
        "                                        windowSize,\n",
        "                                        batch_size=1)\n",
        "\n",
        "print(len(list(test)))\n",
        "for features, labels in test.take(1):\n",
        "    print(features.shape)\n",
        "    print(labels.shape)"
      ],
      "metadata": {
        "colab": {
          "base_uri": "https://localhost:8080/"
        },
        "id": "k0ObuEvwTXzB",
        "outputId": "4d181987-1ebc-4def-9d2e-11fbdfbba711"
      },
      "execution_count": 41,
      "outputs": [
        {
          "output_type": "stream",
          "name": "stdout",
          "text": [
            "36\n",
            "(1, 12, 10)\n",
            "(1,)\n"
          ]
        }
      ]
    },
    {
      "cell_type": "markdown",
      "source": [
        "# LSTM Time"
      ],
      "metadata": {
        "id": "69RxbPwvqqnH"
      }
    },
    {
      "cell_type": "code",
      "source": [
        "model = tf.keras.Sequential([\n",
        "    tf.keras.layers.LSTM(10, input_shape=(12, 10)),\n",
        "    tf.keras.layers.Dense(1)\n",
        "])\n",
        "\n",
        "model.compile(loss='mse', optimizer='adam')\n",
        "\n",
        "model.fit(train, epochs=20)"
      ],
      "metadata": {
        "id": "dqCEJpncoDSD",
        "colab": {
          "base_uri": "https://localhost:8080/"
        },
        "outputId": "9a4c538c-6322-486d-85f3-09b94fe8af21"
      },
      "execution_count": 38,
      "outputs": [
        {
          "output_type": "stream",
          "name": "stdout",
          "text": [
            "Epoch 1/20\n",
            "169/169 [==============================] - 3s 6ms/step - loss: 37.8635\n",
            "Epoch 2/20\n",
            "169/169 [==============================] - 1s 6ms/step - loss: 18.3255\n",
            "Epoch 3/20\n",
            "169/169 [==============================] - 1s 7ms/step - loss: 3.4382\n",
            "Epoch 4/20\n",
            "169/169 [==============================] - 1s 9ms/step - loss: 0.5215\n",
            "Epoch 5/20\n",
            "169/169 [==============================] - 1s 6ms/step - loss: 0.1613\n",
            "Epoch 6/20\n",
            "169/169 [==============================] - 1s 6ms/step - loss: 0.1477\n",
            "Epoch 7/20\n",
            "169/169 [==============================] - 1s 5ms/step - loss: 0.1273\n",
            "Epoch 8/20\n",
            "169/169 [==============================] - 1s 6ms/step - loss: 0.1115\n",
            "Epoch 9/20\n",
            "169/169 [==============================] - 1s 6ms/step - loss: 0.1013\n",
            "Epoch 10/20\n",
            "169/169 [==============================] - 1s 6ms/step - loss: 0.0921\n",
            "Epoch 11/20\n",
            "169/169 [==============================] - 1s 5ms/step - loss: 0.0822\n",
            "Epoch 12/20\n",
            "169/169 [==============================] - 1s 6ms/step - loss: 0.0712\n",
            "Epoch 13/20\n",
            "169/169 [==============================] - 1s 6ms/step - loss: 0.0580\n",
            "Epoch 14/20\n",
            "169/169 [==============================] - 2s 9ms/step - loss: 0.0419\n",
            "Epoch 15/20\n",
            "169/169 [==============================] - 1s 7ms/step - loss: 0.0298\n",
            "Epoch 16/20\n",
            "169/169 [==============================] - 1s 6ms/step - loss: 0.0267\n",
            "Epoch 17/20\n",
            "169/169 [==============================] - 1s 6ms/step - loss: 0.0244\n",
            "Epoch 18/20\n",
            "169/169 [==============================] - 1s 6ms/step - loss: 0.0226\n",
            "Epoch 19/20\n",
            "169/169 [==============================] - 1s 6ms/step - loss: 0.0227\n",
            "Epoch 20/20\n",
            "169/169 [==============================] - 1s 5ms/step - loss: 0.0239\n"
          ]
        },
        {
          "output_type": "execute_result",
          "data": {
            "text/plain": [
              "<keras.src.callbacks.History at 0x7fde306c58d0>"
            ]
          },
          "metadata": {},
          "execution_count": 38
        }
      ]
    },
    {
      "cell_type": "markdown",
      "source": [
        "# Predict and Plot"
      ],
      "metadata": {
        "id": "W8jU0zJgWVRe"
      }
    },
    {
      "cell_type": "code",
      "source": [
        "import matplotlib.pyplot as plt\n",
        "\n",
        "preds = model.predict(whole).reshape(-1,)\n",
        "\n",
        "# 12 month shift because predictions are for 12 months in future\n",
        "x_axis = (((df.loc[df[\"country\"] == \"E\"])[\"mm/yyyy\"])[12:])\n",
        "afford_line = (((df.loc[df[\"country\"] == \"E\"])[\"affordability\"])[12:])\n",
        "\n",
        "print(x_axis.shape)\n",
        "print(preds.shape)\n",
        "\n",
        "plt.xticks([i for i in range(0, 240, 48)])\n",
        "plt.plot(x_axis, preds, label=\"LSTM Predictions\")\n",
        "plt.plot(x_axis, afford_line, label=\"Affordability\")\n",
        "plt.legend()\n",
        "plt.title(\"LSTM Predictions compared to what Happened\")\n",
        "\n",
        "plt.show()"
      ],
      "metadata": {
        "colab": {
          "base_uri": "https://localhost:8080/",
          "height": 504
        },
        "id": "VoBi8733PL9W",
        "outputId": "f76820b8-61d3-480a-c3fa-3e881e7db2cc"
      },
      "execution_count": 53,
      "outputs": [
        {
          "output_type": "stream",
          "name": "stdout",
          "text": [
            "216/216 [==============================] - 0s 2ms/step\n",
            "(216,)\n",
            "(216,)\n"
          ]
        },
        {
          "output_type": "display_data",
          "data": {
            "text/plain": [
              "<Figure size 640x480 with 1 Axes>"
            ],
            "image/png": "[encoded data removed]"
          },
          "metadata": {}
        }
      ]
    },
    {
      "cell_type": "code",
      "source": [],
      "metadata": {
        "id": "PUffRqQ7RlDO"
      },
      "execution_count": null,
      "outputs": []
    }
  ]
}