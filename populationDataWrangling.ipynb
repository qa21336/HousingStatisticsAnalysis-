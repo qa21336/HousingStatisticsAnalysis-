{
  "cells": [
    {
      "cell_type": "markdown",
      "metadata": {
        "id": "view-in-github",
        "colab_type": "text"
      },
      "source": [
        "<a href=\"https://colab.research.google.com/github/qa21336/HousingStatisticsAnalysis-/blob/main/populationDataWrangling.ipynb\" target=\"_parent\"><img src=\"https://colab.research.google.com/assets/colab-badge.svg\" alt=\"Open In Colab\"/></a>"
      ]
    },
    {
      "cell_type": "markdown",
      "id": "24cf7e8a-07ae-4769-a02f-845847a48622",
      "metadata": {
        "id": "24cf7e8a-07ae-4769-a02f-845847a48622"
      },
      "source": [
        "# ADS Data Wrangling for Population Dataset\n",
        "\n",
        "### Explore the dataset"
      ]
    },
    {
      "cell_type": "code",
      "execution_count": null,
      "id": "f2b4cfd2-7756-4d98-b8ed-95fb01bdf4c0",
      "metadata": {
        "id": "f2b4cfd2-7756-4d98-b8ed-95fb01bdf4c0",
        "outputId": "6df69dec-46bb-486a-a965-d7b38c39b402"
      },
      "outputs": [
        {
          "data": {
            "text/html": [
              "<div>\n",
              "<style scoped>\n",
              "    .dataframe tbody tr th:only-of-type {\n",
              "        vertical-align: middle;\n",
              "    }\n",
              "\n",
              "    .dataframe tbody tr th {\n",
              "        vertical-align: top;\n",
              "    }\n",
              "\n",
              "    .dataframe thead th {\n",
              "        text-align: right;\n",
              "    }\n",
              "</style>\n",
              "<table border=\"1\" class=\"dataframe\">\n",
              "  <thead>\n",
              "    <tr style=\"text-align: right;\">\n",
              "      <th></th>\n",
              "      <th>ladcode21</th>\n",
              "      <th>country</th>\n",
              "      <th>sex</th>\n",
              "      <th>age</th>\n",
              "      <th>population_2001</th>\n",
              "      <th>population_2002</th>\n",
              "      <th>population_2003</th>\n",
              "      <th>population_2004</th>\n",
              "      <th>population_2005</th>\n",
              "      <th>population_2006</th>\n",
              "      <th>...</th>\n",
              "      <th>population_2011</th>\n",
              "      <th>population_2012</th>\n",
              "      <th>population_2013</th>\n",
              "      <th>population_2014</th>\n",
              "      <th>population_2015</th>\n",
              "      <th>population_2016</th>\n",
              "      <th>population_2017</th>\n",
              "      <th>population_2018</th>\n",
              "      <th>population_2019</th>\n",
              "      <th>population_2020</th>\n",
              "    </tr>\n",
              "  </thead>\n",
              "  <tbody>\n",
              "    <tr>\n",
              "      <th>0</th>\n",
              "      <td>E06000001</td>\n",
              "      <td>E</td>\n",
              "      <td>1</td>\n",
              "      <td>0</td>\n",
              "      <td>525</td>\n",
              "      <td>502</td>\n",
              "      <td>516</td>\n",
              "      <td>553</td>\n",
              "      <td>531</td>\n",
              "      <td>583</td>\n",
              "      <td>...</td>\n",
              "      <td>601</td>\n",
              "      <td>595</td>\n",
              "      <td>576</td>\n",
              "      <td>551</td>\n",
              "      <td>497</td>\n",
              "      <td>576</td>\n",
              "      <td>507</td>\n",
              "      <td>535</td>\n",
              "      <td>515</td>\n",
              "      <td>517</td>\n",
              "    </tr>\n",
              "    <tr>\n",
              "      <th>1</th>\n",
              "      <td>E06000001</td>\n",
              "      <td>E</td>\n",
              "      <td>1</td>\n",
              "      <td>1</td>\n",
              "      <td>544</td>\n",
              "      <td>526</td>\n",
              "      <td>498</td>\n",
              "      <td>526</td>\n",
              "      <td>550</td>\n",
              "      <td>539</td>\n",
              "      <td>...</td>\n",
              "      <td>573</td>\n",
              "      <td>615</td>\n",
              "      <td>601</td>\n",
              "      <td>567</td>\n",
              "      <td>553</td>\n",
              "      <td>512</td>\n",
              "      <td>570</td>\n",
              "      <td>515</td>\n",
              "      <td>532</td>\n",
              "      <td>519</td>\n",
              "    </tr>\n",
              "    <tr>\n",
              "      <th>2</th>\n",
              "      <td>E06000001</td>\n",
              "      <td>E</td>\n",
              "      <td>1</td>\n",
              "      <td>2</td>\n",
              "      <td>548</td>\n",
              "      <td>548</td>\n",
              "      <td>551</td>\n",
              "      <td>507</td>\n",
              "      <td>521</td>\n",
              "      <td>539</td>\n",
              "      <td>...</td>\n",
              "      <td>580</td>\n",
              "      <td>586</td>\n",
              "      <td>621</td>\n",
              "      <td>600</td>\n",
              "      <td>576</td>\n",
              "      <td>562</td>\n",
              "      <td>534</td>\n",
              "      <td>576</td>\n",
              "      <td>515</td>\n",
              "      <td>528</td>\n",
              "    </tr>\n",
              "    <tr>\n",
              "      <th>3</th>\n",
              "      <td>E06000001</td>\n",
              "      <td>E</td>\n",
              "      <td>1</td>\n",
              "      <td>3</td>\n",
              "      <td>556</td>\n",
              "      <td>546</td>\n",
              "      <td>548</td>\n",
              "      <td>553</td>\n",
              "      <td>508</td>\n",
              "      <td>514</td>\n",
              "      <td>...</td>\n",
              "      <td>600</td>\n",
              "      <td>578</td>\n",
              "      <td>584</td>\n",
              "      <td>625</td>\n",
              "      <td>598</td>\n",
              "      <td>579</td>\n",
              "      <td>565</td>\n",
              "      <td>530</td>\n",
              "      <td>583</td>\n",
              "      <td>520</td>\n",
              "    </tr>\n",
              "    <tr>\n",
              "      <th>4</th>\n",
              "      <td>E06000001</td>\n",
              "      <td>E</td>\n",
              "      <td>1</td>\n",
              "      <td>4</td>\n",
              "      <td>606</td>\n",
              "      <td>549</td>\n",
              "      <td>553</td>\n",
              "      <td>540</td>\n",
              "      <td>554</td>\n",
              "      <td>512</td>\n",
              "      <td>...</td>\n",
              "      <td>600</td>\n",
              "      <td>616</td>\n",
              "      <td>593</td>\n",
              "      <td>568</td>\n",
              "      <td>620</td>\n",
              "      <td>604</td>\n",
              "      <td>591</td>\n",
              "      <td>576</td>\n",
              "      <td>533</td>\n",
              "      <td>580</td>\n",
              "    </tr>\n",
              "  </tbody>\n",
              "</table>\n",
              "<p>5 rows × 24 columns</p>\n",
              "</div>"
            ],
            "text/plain": [
              "   ladcode21 country  sex  age  population_2001  population_2002  \\\n",
              "0  E06000001       E    1    0              525              502   \n",
              "1  E06000001       E    1    1              544              526   \n",
              "2  E06000001       E    1    2              548              548   \n",
              "3  E06000001       E    1    3              556              546   \n",
              "4  E06000001       E    1    4              606              549   \n",
              "\n",
              "   population_2003  population_2004  population_2005  population_2006  ...  \\\n",
              "0              516              553              531              583  ...   \n",
              "1              498              526              550              539  ...   \n",
              "2              551              507              521              539  ...   \n",
              "3              548              553              508              514  ...   \n",
              "4              553              540              554              512  ...   \n",
              "\n",
              "   population_2011  population_2012  population_2013  population_2014  \\\n",
              "0              601              595              576              551   \n",
              "1              573              615              601              567   \n",
              "2              580              586              621              600   \n",
              "3              600              578              584              625   \n",
              "4              600              616              593              568   \n",
              "\n",
              "   population_2015  population_2016  population_2017  population_2018  \\\n",
              "0              497              576              507              535   \n",
              "1              553              512              570              515   \n",
              "2              576              562              534              576   \n",
              "3              598              579              565              530   \n",
              "4              620              604              591              576   \n",
              "\n",
              "   population_2019  population_2020  \n",
              "0              515              517  \n",
              "1              532              519  \n",
              "2              515              528  \n",
              "3              583              520  \n",
              "4              533              580  \n",
              "\n",
              "[5 rows x 24 columns]"
            ]
          },
          "execution_count": 7,
          "metadata": {},
          "output_type": "execute_result"
        }
      ],
      "source": [
        "import pandas as pd\n",
        "\n",
        "popDf = pd.read_csv(\"populationDatasets/MYEB1_detailed_population_estimates_series_UK_(2020_geog21).csv\")\n",
        "\n",
        "# We dont need Local Area name as well as code\n",
        "popDf = popDf.drop(\"laname21\", axis=1)\n",
        "popDf.head()"
      ]
    },
    {
      "cell_type": "code",
      "execution_count": null,
      "id": "6888020c-c78a-4c4b-a748-0ab28f2f26d9",
      "metadata": {
        "id": "6888020c-c78a-4c4b-a748-0ab28f2f26d9",
        "outputId": "88026f27-1a42-4e59-b027-392ebc1fbad1"
      },
      "outputs": [
        {
          "name": "stdout",
          "output_type": "stream",
          "text": [
            "youngest age is: 0\n",
            "oldest age is: 90\n"
          ]
        }
      ],
      "source": [
        "import numpy as np\n",
        "\n",
        "# Find age range for restructured data\n",
        "print(\"youngest age is: \"+str(np.min(popDf.loc[:, \"age\"].to_numpy())))\n",
        "print(\"oldest age is: \"+str(np.max(popDf.loc[:, \"age\"].to_numpy())))"
      ]
    },
    {
      "cell_type": "markdown",
      "id": "8007d3c4-7406-4d39-9612-4e276e549d06",
      "metadata": {
        "id": "8007d3c4-7406-4d39-9612-4e276e549d06"
      },
      "source": [
        "### Extract important information from columns and create place for restructured data"
      ]
    },
    {
      "cell_type": "code",
      "execution_count": null,
      "id": "80816cbc-7fd3-4edf-bdf5-9840f412a3c1",
      "metadata": {
        "id": "80816cbc-7fd3-4edf-bdf5-9840f412a3c1"
      },
      "outputs": [],
      "source": [
        "# Get countries\n",
        "countries = np.unique(popDf.loc[:, \"country\"].to_numpy())\n",
        "\n",
        "# Get population columns and years\n",
        "population_cols = list(filter(lambda s: s[0] == \"p\", popDf.columns))\n",
        "years = list(map(lambda col: col.split(\"_\")[1], population_cols))\n",
        "\n",
        "# Create place for restructured data\n",
        "newPopDict = {}\n",
        "newPopDict[\"country\"] = []\n",
        "newPopDict[\"year\"] = []\n",
        "newPopDict[\"population\"] = []\n",
        "\n",
        "for i in range(0, 100, 10):\n",
        "    colName = \"age_\"+str(i)+\"-\"+str(i+10)+\"_proportion\"\n",
        "    newPopDict[colName] = []\n",
        "\n",
        "print(newPopDict)"
      ]
    },
    {
      "cell_type": "markdown",
      "id": "afc25086-46b3-4f0a-b452-5c7a9cdde0d6",
      "metadata": {
        "id": "afc25086-46b3-4f0a-b452-5c7a9cdde0d6"
      },
      "source": [
        "### Fill in Population Sums"
      ]
    },
    {
      "cell_type": "code",
      "execution_count": null,
      "id": "d5d5f37a-75d4-4c9f-b9ed-2944974856a8",
      "metadata": {
        "id": "d5d5f37a-75d4-4c9f-b9ed-2944974856a8"
      },
      "outputs": [],
      "source": [
        "# Extract sum of populations in each year\n",
        "for country in countries:\n",
        "    rowsForCountry = popDf.loc[popDf[\"country\"] == country]\n",
        "\n",
        "    # Get sum for each year\n",
        "    for year, popCol in zip(years, population_cols):\n",
        "        sum = np.sum(rowsForCountry.loc[:, popCol].to_numpy())\n",
        "\n",
        "        # Update newPopDf\n",
        "        newPopDict[\"country\"].append(country)\n",
        "        newPopDict[\"year\"].append(year)\n",
        "        newPopDict[\"population\"].append(sum)"
      ]
    },
    {
      "cell_type": "markdown",
      "id": "f77e93c6-3be7-4872-b366-3d30a29e17c4",
      "metadata": {
        "id": "f77e93c6-3be7-4872-b366-3d30a29e17c4"
      },
      "source": [
        "### Fill in Age Ratios"
      ]
    },
    {
      "cell_type": "code",
      "execution_count": null,
      "id": "ceafd4f5-d362-4b4a-8f81-54f235d62776",
      "metadata": {
        "id": "ceafd4f5-d362-4b4a-8f81-54f235d62776",
        "outputId": "402f80c4-f389-4dea-c3ec-6c74ca0b163d"
      },
      "outputs": [
        {
          "name": "stdout",
          "output_type": "stream",
          "text": [
            "6044627\n"
          ]
        }
      ],
      "source": [
        "# Extract proportion of population in each decade of their lives\n",
        "for country in newPopDict[\"country\"]:\n",
        "    rowsForCountry = popDf.loc[popDf[\"country\"] == country]\n",
        "\n",
        "    # Get proportion for each year\n",
        "    for year, popCol in zip(years, population_cols):\n",
        "        cellsForCountryYear = rowsForCountry.loc[:, [\"age\", popCol]].to_numpy()\n",
        "\n",
        "        # Get Ages\n",
        "        for age in range(0, 100, 10):\n",
        "            agePopsInRange = np.array(list(filter(lambda agePop: age <= agePop[0] and agePop[0] < age + 10,\n",
        "                                                  cellsForCountryYear)))\n",
        "            print(np.sum(agePopsInRange, axis=0)[1])\n",
        "            break\n",
        "        break\n",
        "    break\n",
        ""
      ]
    },
    {
      "cell_type": "code",
      "execution_count": null,
      "id": "27e0b681-0b4d-421c-a138-d25ce027e661",
      "metadata": {
        "id": "27e0b681-0b4d-421c-a138-d25ce027e661"
      },
      "outputs": [],
      "source": [
        "newPopDf = pd.DataFrame(data=newPopDict)\n",
        "newPopDf"
      ]
    }
  ],
  "metadata": {
    "kernelspec": {
      "display_name": "Python 3 (ipykernel)",
      "language": "python",
      "name": "python3"
    },
    "language_info": {
      "codemirror_mode": {
        "name": "ipython",
        "version": 3
      },
      "file_extension": ".py",
      "mimetype": "text/x-python",
      "name": "python",
      "nbconvert_exporter": "python",
      "pygments_lexer": "ipython3",
      "version": "3.12.1"
    },
    "colab": {
      "provenance": [],
      "include_colab_link": true
    }
  },
  "nbformat": 4,
  "nbformat_minor": 5
}